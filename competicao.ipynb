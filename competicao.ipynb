{
 "cells": [
  {
   "cell_type": "markdown",
   "metadata": {},
   "source": [
    "# Dados e Aprendizagem Automática\n",
    "## Produção Energética e Sustentabilidade\n",
    "\n",
    "\n",
    "**Dataset:** .csv\n",
    "\n",
    "**Problema:** Prever a quantidade de energia, em kWh, produzida por painéis solares e injectada, em redes elétricas, a cada hora do dia.\n",
    "___\n",
    "**Features dos Datasets de Energia:**\n",
    "\n",
    "* Data - o timestamp associado ao registo, ao dia;\n",
    "* Hora - a hora associada ao registo;\n",
    "* Normal (kWh) - quantidade de energia eléctrica consumida, em kWh e proveniente da rede eléctrica, num período considerado normal em ciclos bi-horário diários (horas fora de vazio);\n",
    "* Horário Económico (kWh) - quantidade de energia eléctrica consumida, em kWh e proveniente da rede eléctrica, num período considerado económico em ciclos bi-horário diários (horas de vazio);\n",
    "* Autoconsumo (kWh) - quantidade de energia eléctrica consumida, em kWh, proveniente dos painéis solares;\n",
    "* Injeção na rede (kWh) - quantidade de energia eléctrica injectada na rede eléctrica, em kWh, proveniente dos painéis solares.\n",
    "\n",
    "**Features dos Datasets Meteorológicos:**\n",
    "\n",
    "* dt - o timestamp associado ao registo;\n",
    "* dt_iso - a data associada ao registo, ao segundo;\n",
    "* city_name - o local em causa;\n",
    "* temp - temperatura em ºC;\n",
    "* feels_like - sensação térmica em ºC;\n",
    "* temp_min - temperatura mínima sentida em ºC;\n",
    "* temp_max - temperatura máxima sentida em ºC;\n",
    "* pressure - pressão atmosférica sentida em atm;\n",
    "* sea_level - pressão atmosférica sentida ao nível do mar em atm;\n",
    "* grnd_level - pressão atmosférica sentida à altitude local em atm;\n",
    "* humidity - humidade em percentagem;\n",
    "* wind_speed - velocidade do vento em metros por segundo;\n",
    "* rain_1h - valor médio de precipitação;\n",
    "* clouds_all - nível de nebulosidade em percentagem;\n",
    "* weather_description - avaliação qualitativa do estado do tempo.\n",
    "\n",
    "___\n",
    "**Grupo:**\n",
    "- João Paulo Machado Abreu - pg53928\n",
    "- João Pedro Dias Faria - pg53939\n",
    "- Ricardo Cardoso Sousa - pg54179\n",
    "- Rui Pedro Guise da Silva - pg54213\n"
   ]
  },
  {
   "cell_type": "markdown",
   "metadata": {},
   "source": [
    "### Importar Bibliotecas"
   ]
  },
  {
   "cell_type": "code",
   "execution_count": 1,
   "metadata": {
    "ExecuteTime": {
     "end_time": "2023-10-26T21:12:13.429668921Z",
     "start_time": "2023-10-26T21:12:13.424293414Z"
    }
   },
   "outputs": [],
   "source": [
    "import pandas as pd\n",
    "import numpy as np\n",
    "import matplotlib.pyplot as plt\n",
    "import seaborn as sns\n",
    "from datetime import datetime, timezone\n",
    "%matplotlib inline"
   ]
  },
  {
   "cell_type": "markdown",
   "source": [
    "##### Concat dos dois datasets para treino da energia"
   ],
   "metadata": {
    "collapsed": false
   }
  },
  {
   "cell_type": "code",
   "execution_count": 9,
   "metadata": {
    "ExecuteTime": {
     "end_time": "2023-10-26T21:40:30.734914255Z",
     "start_time": "2023-10-26T21:40:30.414236010Z"
    }
   },
   "outputs": [],
   "source": [
    "df1 = pd.read_csv('./datasets/competicao/energia_202109-202112.csv')\n",
    "df2 = pd.read_csv('./datasets/competicao/energia_202201-202212.csv')\n",
    "\n",
    "stacked_df = pd.concat([df1, df2], ignore_index=True)\n",
    "stacked_df.to_csv('./datasets/competicao/energia_train.csv', index=False)"
   ]
  },
  {
   "cell_type": "markdown",
   "source": [
    "##### Adicionar uma coluna com o timestamp em segundos"
   ],
   "metadata": {
    "collapsed": false
   }
  },
  {
   "cell_type": "code",
   "execution_count": 12,
   "outputs": [],
   "source": [
    "df3 = pd.read_csv('./datasets/competicao/energia_train.csv')\n",
    "\n",
    "df3['dt'] = pd.to_datetime(df3['Data'] + ' ' + df3['Hora'].astype(str) + ':00:00', format='%Y-%m-%d %H:%M:%S')\n",
    "\n",
    "def create_timestamp(row):\n",
    "    timestamp_str = str(row['dt'])\n",
    "    timestamp= datetime.strptime(timestamp_str, '%Y-%m-%d %H:%M:%S')\n",
    "    timestamp_utc = timestamp.replace(tzinfo=timezone.utc)\n",
    "    return int(timestamp_utc.timestamp())\n",
    "\n",
    "df3['dt'] = df3.apply(create_timestamp, axis=1)\n",
    "df3.to_csv('./datasets/competicao/energia_train.csv', index=False)"
   ],
   "metadata": {
    "collapsed": false,
    "ExecuteTime": {
     "end_time": "2023-10-26T22:09:31.042028823Z",
     "start_time": "2023-10-26T22:09:30.762584713Z"
    }
   }
  },
  {
   "cell_type": "markdown",
   "source": [
    "##### Concat dos dois datasets para treino da meteorologia"
   ],
   "metadata": {
    "collapsed": false
   }
  },
  {
   "cell_type": "code",
   "execution_count": 2,
   "outputs": [],
   "source": [
    "df4 = pd.read_csv('./datasets/competicao/meteo_202109-202112.csv')\n",
    "df5 = pd.read_csv('./datasets/competicao/meteo_202201-202212.csv')\n",
    "\n",
    "stacked_df2 = pd.concat([df4, df5], ignore_index=True)\n",
    "stacked_df2.to_csv('./datasets/competicao/meteo_train.csv', index=False)"
   ],
   "metadata": {
    "collapsed": false,
    "ExecuteTime": {
     "end_time": "2023-10-26T21:12:37.697484970Z",
     "start_time": "2023-10-26T21:12:37.614327369Z"
    }
   }
  },
  {
   "cell_type": "markdown",
   "source": [
    "##### Remover todas as linhas com timestamps anteriores a 29-09-2021 00:00:00"
   ],
   "metadata": {
    "collapsed": false
   }
  },
  {
   "cell_type": "code",
   "execution_count": 14,
   "outputs": [],
   "source": [
    "threshold_date = 1632870000\n",
    "df6 = pd.read_csv('./datasets/competicao/meteo_train.csv')\n",
    "df6 = df6[df6['dt']> threshold_date]\n",
    "\n",
    "df6.to_csv('./datasets/competicao/meteo_train.csv', index=False)\n"
   ],
   "metadata": {
    "collapsed": false,
    "ExecuteTime": {
     "end_time": "2023-10-26T22:21:46.057866552Z",
     "start_time": "2023-10-26T22:21:45.981360134Z"
    }
   }
  },
  {
   "cell_type": "markdown",
   "source": [
    "##### Join do dataset de energia com o de meteorologia"
   ],
   "metadata": {
    "collapsed": false
   }
  },
  {
   "cell_type": "code",
   "execution_count": 15,
   "outputs": [],
   "source": [
    "dataset1 = pd.read_csv('./datasets/competicao/energia_train.csv')\n",
    "\n",
    "dataset2 = pd.read_csv('./datasets/competicao/meteo_train.csv')\n",
    "\n",
    "merged_dataset = pd.merge(dataset1, dataset2, left_on='dt', right_on='dt', how='inner')\n",
    "\n",
    "merged_dataset.to_csv('./datasets/competicao/energia_meteo_train.csv', index=False)"
   ],
   "metadata": {
    "collapsed": false,
    "ExecuteTime": {
     "end_time": "2023-10-26T22:21:51.189658470Z",
     "start_time": "2023-10-26T22:21:51.092609640Z"
    }
   }
  },
  {
   "cell_type": "markdown",
   "metadata": {},
   "source": [
    "### Exploração e Visualização dos dados"
   ]
  },
  {
   "cell_type": "code",
   "execution_count": 31,
   "metadata": {
    "ExecuteTime": {
     "end_time": "2023-10-26T23:12:37.836936145Z",
     "start_time": "2023-10-26T23:12:37.792624517Z"
    }
   },
   "outputs": [
    {
     "name": "stdout",
     "output_type": "stream",
     "text": [
      "<class 'pandas.core.frame.DataFrame'>\n",
      "RangeIndex: 11016 entries, 0 to 11015\n",
      "Data columns (total 21 columns):\n",
      " #   Column                   Non-Null Count  Dtype  \n",
      "---  ------                   --------------  -----  \n",
      " 0   Data                     11016 non-null  object \n",
      " 1   Hora                     11016 non-null  int64  \n",
      " 2   Normal (kWh)             11016 non-null  float64\n",
      " 3   Horário Económico (kWh)  11016 non-null  float64\n",
      " 4   Autoconsumo (kWh)        11016 non-null  float64\n",
      " 5   Injeção na rede (kWh)    3239 non-null   object \n",
      " 6   dt                       11016 non-null  int64  \n",
      " 7   dt_iso                   11016 non-null  object \n",
      " 8   city_name                11016 non-null  object \n",
      " 9   temp                     11016 non-null  float64\n",
      " 10  feels_like               11016 non-null  float64\n",
      " 11  temp_min                 11016 non-null  float64\n",
      " 12  temp_max                 11016 non-null  float64\n",
      " 13  pressure                 11016 non-null  int64  \n",
      " 14  sea_level                0 non-null      float64\n",
      " 15  grnd_level               0 non-null      float64\n",
      " 16  humidity                 11016 non-null  int64  \n",
      " 17  wind_speed               11016 non-null  float64\n",
      " 18  rain_1h                  2284 non-null   float64\n",
      " 19  clouds_all               11016 non-null  int64  \n",
      " 20  weather_description      11016 non-null  object \n",
      "dtypes: float64(11), int64(5), object(5)\n",
      "memory usage: 1.8+ MB\n"
     ]
    }
   ],
   "source": [
    "em = pd.read_csv('./datasets/competicao/energia_meteo_train.csv')\n",
    "\n",
    "em.info()"
   ]
  },
  {
   "cell_type": "code",
   "execution_count": 32,
   "outputs": [
    {
     "name": "stdout",
     "output_type": "stream",
     "text": [
      "Data                           0\n",
      "Hora                           0\n",
      "Normal (kWh)                   0\n",
      "Horário Económico (kWh)        0\n",
      "Autoconsumo (kWh)              0\n",
      "Injeção na rede (kWh)       7777\n",
      "dt                             0\n",
      "dt_iso                         0\n",
      "city_name                      0\n",
      "temp                           0\n",
      "feels_like                     0\n",
      "temp_min                       0\n",
      "temp_max                       0\n",
      "pressure                       0\n",
      "sea_level                  11016\n",
      "grnd_level                 11016\n",
      "humidity                       0\n",
      "wind_speed                     0\n",
      "rain_1h                     8732\n",
      "clouds_all                     0\n",
      "weather_description            0\n",
      "dtype: int64\n"
     ]
    }
   ],
   "source": [
    "print(em.isna().sum())"
   ],
   "metadata": {
    "collapsed": false,
    "ExecuteTime": {
     "end_time": "2023-10-26T23:12:40.765007875Z",
     "start_time": "2023-10-26T23:12:40.756791790Z"
    }
   }
  },
  {
   "cell_type": "code",
   "execution_count": 33,
   "outputs": [
    {
     "data": {
      "text/plain": "<Axes: >"
     },
     "execution_count": 33,
     "metadata": {},
     "output_type": "execute_result"
    },
    {
     "data": {
      "text/plain": "<Figure size 640x480 with 1 Axes>",
      "image/png": "[encoded data removed]"
     },
     "metadata": {},
     "output_type": "display_data"
    }
   ],
   "source": [
    "sns.heatmap(em.isnull(),yticklabels=False, cbar=False, cmap='viridis')"
   ],
   "metadata": {
    "collapsed": false,
    "ExecuteTime": {
     "end_time": "2023-10-26T23:12:43.783953138Z",
     "start_time": "2023-10-26T23:12:43.309122688Z"
    }
   }
  },
  {
   "cell_type": "markdown",
   "source": [
    "#### Drop de colunas\n",
    "\n",
    "Vamos remover as colunas sea_level e grnd_level devido as mesmas não conterem dados.\n",
    "Vamos remover as colunas dt_iso e dt por não conterem dados essenciais para o problema"
   ],
   "metadata": {
    "collapsed": false
   }
  },
  {
   "cell_type": "code",
   "execution_count": 39,
   "outputs": [
    {
     "data": {
      "text/plain": "         Data  Hora  Normal (kWh)  Horário Económico (kWh)  Autoconsumo (kWh)  \\\n0  2021-09-29     0           0.0                      0.0                0.0   \n1  2021-09-29     1           0.0                      0.0                0.0   \n2  2021-09-29     2           0.0                      0.0                0.0   \n3  2021-09-29     3           0.0                      0.0                0.0   \n4  2021-09-29     4           0.0                      0.0                0.0   \n\n  Injeção na rede (kWh) city_name   temp  feels_like  temp_min  temp_max  \\\n0                   NaN     local  13.97       13.54     11.45     14.04   \n1                   NaN     local  13.48       13.02     13.43     13.90   \n2                   NaN     local  12.93       12.47     12.72     13.43   \n3                   NaN     local  12.61       12.15     10.34     12.93   \n4                   NaN     local  12.61       12.17      9.79     12.93   \n\n   pressure  humidity  wind_speed  rain_1h  clouds_all weather_description  \n0      1027        81        1.96      NaN          87     overcast clouds  \n1      1028        82        1.83      NaN          91     overcast clouds  \n2      1027        84        1.96      NaN          93     overcast clouds  \n3      1027        85        1.85      NaN          95     overcast clouds  \n4      1027        86        1.83      NaN          93     overcast clouds  ",
      "text/html": "<div>\n<style scoped>\n    .dataframe tbody tr th:only-of-type {\n        vertical-align: middle;\n    }\n\n    .dataframe tbody tr th {\n        vertical-align: top;\n    }\n\n    .dataframe thead th {\n        text-align: right;\n    }\n</style>\n<table border=\"1\" class=\"dataframe\">\n  <thead>\n    <tr style=\"text-align: right;\">\n      <th></th>\n      <th>Data</th>\n      <th>Hora</th>\n      <th>Normal (kWh)</th>\n      <th>Horário Económico (kWh)</th>\n      <th>Autoconsumo (kWh)</th>\n      <th>Injeção na rede (kWh)</th>\n      <th>city_name</th>\n      <th>temp</th>\n      <th>feels_like</th>\n      <th>temp_min</th>\n      <th>temp_max</th>\n      <th>pressure</th>\n      <th>humidity</th>\n      <th>wind_speed</th>\n      <th>rain_1h</th>\n      <th>clouds_all</th>\n      <th>weather_description</th>\n    </tr>\n  </thead>\n  <tbody>\n    <tr>\n      <th>0</th>\n      <td>2021-09-29</td>\n      <td>0</td>\n      <td>0.0</td>\n      <td>0.0</td>\n      <td>0.0</td>\n      <td>NaN</td>\n      <td>local</td>\n      <td>13.97</td>\n      <td>13.54</td>\n      <td>11.45</td>\n      <td>14.04</td>\n      <td>1027</td>\n      <td>81</td>\n      <td>1.96</td>\n      <td>NaN</td>\n      <td>87</td>\n      <td>overcast clouds</td>\n    </tr>\n    <tr>\n      <th>1</th>\n      <td>2021-09-29</td>\n      <td>1</td>\n      <td>0.0</td>\n      <td>0.0</td>\n      <td>0.0</td>\n      <td>NaN</td>\n      <td>local</td>\n      <td>13.48</td>\n      <td>13.02</td>\n      <td>13.43</td>\n      <td>13.90</td>\n      <td>1028</td>\n      <td>82</td>\n      <td>1.83</td>\n      <td>NaN</td>\n      <td>91</td>\n      <td>overcast clouds</td>\n    </tr>\n    <tr>\n      <th>2</th>\n      <td>2021-09-29</td>\n      <td>2</td>\n      <td>0.0</td>\n      <td>0.0</td>\n      <td>0.0</td>\n      <td>NaN</td>\n      <td>local</td>\n      <td>12.93</td>\n      <td>12.47</td>\n      <td>12.72</td>\n      <td>13.43</td>\n      <td>1027</td>\n      <td>84</td>\n      <td>1.96</td>\n      <td>NaN</td>\n      <td>93</td>\n      <td>overcast clouds</td>\n    </tr>\n    <tr>\n      <th>3</th>\n      <td>2021-09-29</td>\n      <td>3</td>\n      <td>0.0</td>\n      <td>0.0</td>\n      <td>0.0</td>\n      <td>NaN</td>\n      <td>local</td>\n      <td>12.61</td>\n      <td>12.15</td>\n      <td>10.34</td>\n      <td>12.93</td>\n      <td>1027</td>\n      <td>85</td>\n      <td>1.85</td>\n      <td>NaN</td>\n      <td>95</td>\n      <td>overcast clouds</td>\n    </tr>\n    <tr>\n      <th>4</th>\n      <td>2021-09-29</td>\n      <td>4</td>\n      <td>0.0</td>\n      <td>0.0</td>\n      <td>0.0</td>\n      <td>NaN</td>\n      <td>local</td>\n      <td>12.61</td>\n      <td>12.17</td>\n      <td>9.79</td>\n      <td>12.93</td>\n      <td>1027</td>\n      <td>86</td>\n      <td>1.83</td>\n      <td>NaN</td>\n      <td>93</td>\n      <td>overcast clouds</td>\n    </tr>\n  </tbody>\n</table>\n</div>"
     },
     "execution_count": 39,
     "metadata": {},
     "output_type": "execute_result"
    }
   ],
   "source": [
    "# Estou a colocar num dataframe diferente para não estragar o inicial\n",
    "em1 = em.copy()\n",
    "em1.drop(['sea_level'], axis=1, inplace=True)\n",
    "em1.drop(['grnd_level'], axis=1, inplace=True)\n",
    "em1.drop(['dt'], axis=1, inplace=True)\n",
    "em1.drop(['dt_iso'], axis=1, inplace=True)\n",
    "em1.head()"
   ],
   "metadata": {
    "collapsed": false,
    "ExecuteTime": {
     "end_time": "2023-10-26T23:15:33.941635992Z",
     "start_time": "2023-10-26T23:15:33.899107526Z"
    }
   }
  },
  {
   "cell_type": "code",
   "execution_count": 40,
   "outputs": [
    {
     "data": {
      "text/plain": "Data                        459\nHora                         24\nNormal (kWh)               1282\nHorário Económico (kWh)     851\nAutoconsumo (kWh)           752\nInjeção na rede (kWh)         4\ncity_name                     1\ntemp                       2382\nfeels_like                 2670\ntemp_min                    481\ntemp_max                    545\npressure                     41\nhumidity                     82\nwind_speed                  771\nrain_1h                     367\nclouds_all                  101\nweather_description           8\ndtype: int64"
     },
     "execution_count": 40,
     "metadata": {},
     "output_type": "execute_result"
    }
   ],
   "source": [
    "em1.nunique()"
   ],
   "metadata": {
    "collapsed": false,
    "ExecuteTime": {
     "end_time": "2023-10-26T23:15:40.262483514Z",
     "start_time": "2023-10-26T23:15:40.252684042Z"
    }
   }
  },
  {
   "cell_type": "markdown",
   "source": [
    "Vamos remover a coluna city_name por a mesma apresentar apenas um valor único, não interessante para o dataset"
   ],
   "metadata": {
    "collapsed": false
   }
  },
  {
   "cell_type": "code",
   "execution_count": 41,
   "outputs": [
    {
     "data": {
      "text/plain": "Index(['Data', 'Hora', 'Normal (kWh)', 'Horário Económico (kWh)',\n       'Autoconsumo (kWh)', 'Injeção na rede (kWh)', 'temp', 'feels_like',\n       'temp_min', 'temp_max', 'pressure', 'humidity', 'wind_speed', 'rain_1h',\n       'clouds_all', 'weather_description'],\n      dtype='object')"
     },
     "execution_count": 41,
     "metadata": {},
     "output_type": "execute_result"
    }
   ],
   "source": [
    "em1.drop('city_name', axis=1, inplace=True)\n",
    "em1.columns"
   ],
   "metadata": {
    "collapsed": false,
    "ExecuteTime": {
     "end_time": "2023-10-26T23:15:51.007548006Z",
     "start_time": "2023-10-26T23:15:51.004148400Z"
    }
   }
  },
  {
   "cell_type": "markdown",
   "source": [
    "Vamos prencher com 0 os restantes missing values presentes nas colunas 'Injeção na rede' e 'rain_1h', uma vez que o significado destas colunas permitem o mesmo."
   ],
   "metadata": {
    "collapsed": false
   }
  },
  {
   "cell_type": "code",
   "execution_count": 42,
   "outputs": [
    {
     "data": {
      "text/plain": "             Data  Hora  Normal (kWh)  Horário Económico (kWh)  \\\n0      2021-09-29     0         0.000                    0.000   \n1      2021-09-29     1         0.000                    0.000   \n2      2021-09-29     2         0.000                    0.000   \n3      2021-09-29     3         0.000                    0.000   \n4      2021-09-29     4         0.000                    0.000   \n...           ...   ...           ...                      ...   \n11011  2022-12-31    19         1.693                    0.000   \n11012  2022-12-31    20         1.327                    0.000   \n11013  2022-12-31    21         0.757                    0.000   \n11014  2022-12-31    22         0.000                    0.675   \n11015  2022-12-31    23         0.000                    0.403   \n\n       Autoconsumo (kWh) Injeção na rede (kWh)   temp  feels_like  temp_min  \\\n0                    0.0                     0  13.97       13.54     11.45   \n1                    0.0                     0  13.48       13.02     13.43   \n2                    0.0                     0  12.93       12.47     12.72   \n3                    0.0                     0  12.61       12.15     10.34   \n4                    0.0                     0  12.61       12.17      9.79   \n...                  ...                   ...    ...         ...       ...   \n11011                0.0                     0  15.70       15.57     15.57   \n11012                0.0                     0  15.55       15.43     12.72   \n11013                0.0                     0  13.45       13.28     12.23   \n11014                0.0                     0  12.93       12.73     12.23   \n11015                0.0                     0  12.93       12.76     12.23   \n\n       temp_max  pressure  humidity  wind_speed  rain_1h  clouds_all  \\\n0         14.04      1027        81        1.96     0.00          87   \n1         13.90      1028        82        1.83     0.00          91   \n2         13.43      1027        84        1.96     0.00          93   \n3         12.93      1027        85        1.85     0.00          95   \n4         12.93      1027        86        1.83     0.00          93   \n...         ...       ...       ...         ...      ...         ...   \n11011     15.72      1018        86        5.56     3.58         100   \n11012     15.70      1018        87        4.47     4.20         100   \n11013     13.99      1019        93        3.29     4.23         100   \n11014     13.43      1019        94        1.49     3.90         100   \n11015     13.43      1019        95        1.93     4.07         100   \n\n        weather_description  \n0           overcast clouds  \n1           overcast clouds  \n2           overcast clouds  \n3           overcast clouds  \n4           overcast clouds  \n...                     ...  \n11011         moderate rain  \n11012  heavy intensity rain  \n11013  heavy intensity rain  \n11014         moderate rain  \n11015  heavy intensity rain  \n\n[11016 rows x 16 columns]",
      "text/html": "<div>\n<style scoped>\n    .dataframe tbody tr th:only-of-type {\n        vertical-align: middle;\n    }\n\n    .dataframe tbody tr th {\n        vertical-align: top;\n    }\n\n    .dataframe thead th {\n        text-align: right;\n    }\n</style>\n<table border=\"1\" class=\"dataframe\">\n  <thead>\n    <tr style=\"text-align: right;\">\n      <th></th>\n      <th>Data</th>\n      <th>Hora</th>\n      <th>Normal (kWh)</th>\n      <th>Horário Económico (kWh)</th>\n      <th>Autoconsumo (kWh)</th>\n      <th>Injeção na rede (kWh)</th>\n      <th>temp</th>\n      <th>feels_like</th>\n      <th>temp_min</th>\n      <th>temp_max</th>\n      <th>pressure</th>\n      <th>humidity</th>\n      <th>wind_speed</th>\n      <th>rain_1h</th>\n      <th>clouds_all</th>\n      <th>weather_description</th>\n    </tr>\n  </thead>\n  <tbody>\n    <tr>\n      <th>0</th>\n      <td>2021-09-29</td>\n      <td>0</td>\n      <td>0.000</td>\n      <td>0.000</td>\n      <td>0.0</td>\n      <td>0</td>\n      <td>13.97</td>\n      <td>13.54</td>\n      <td>11.45</td>\n      <td>14.04</td>\n      <td>1027</td>\n      <td>81</td>\n      <td>1.96</td>\n      <td>0.00</td>\n      <td>87</td>\n      <td>overcast clouds</td>\n    </tr>\n    <tr>\n      <th>1</th>\n      <td>2021-09-29</td>\n      <td>1</td>\n      <td>0.000</td>\n      <td>0.000</td>\n      <td>0.0</td>\n      <td>0</td>\n      <td>13.48</td>\n      <td>13.02</td>\n      <td>13.43</td>\n      <td>13.90</td>\n      <td>1028</td>\n      <td>82</td>\n      <td>1.83</td>\n      <td>0.00</td>\n      <td>91</td>\n      <td>overcast clouds</td>\n    </tr>\n    <tr>\n      <th>2</th>\n      <td>2021-09-29</td>\n      <td>2</td>\n      <td>0.000</td>\n      <td>0.000</td>\n      <td>0.0</td>\n      <td>0</td>\n      <td>12.93</td>\n      <td>12.47</td>\n      <td>12.72</td>\n      <td>13.43</td>\n      <td>1027</td>\n      <td>84</td>\n      <td>1.96</td>\n      <td>0.00</td>\n      <td>93</td>\n      <td>overcast clouds</td>\n    </tr>\n    <tr>\n      <th>3</th>\n      <td>2021-09-29</td>\n      <td>3</td>\n      <td>0.000</td>\n      <td>0.000</td>\n      <td>0.0</td>\n      <td>0</td>\n      <td>12.61</td>\n      <td>12.15</td>\n      <td>10.34</td>\n      <td>12.93</td>\n      <td>1027</td>\n      <td>85</td>\n      <td>1.85</td>\n      <td>0.00</td>\n      <td>95</td>\n      <td>overcast clouds</td>\n    </tr>\n    <tr>\n      <th>4</th>\n      <td>2021-09-29</td>\n      <td>4</td>\n      <td>0.000</td>\n      <td>0.000</td>\n      <td>0.0</td>\n      <td>0</td>\n      <td>12.61</td>\n      <td>12.17</td>\n      <td>9.79</td>\n      <td>12.93</td>\n      <td>1027</td>\n      <td>86</td>\n      <td>1.83</td>\n      <td>0.00</td>\n      <td>93</td>\n      <td>overcast clouds</td>\n    </tr>\n    <tr>\n      <th>...</th>\n      <td>...</td>\n      <td>...</td>\n      <td>...</td>\n      <td>...</td>\n      <td>...</td>\n      <td>...</td>\n      <td>...</td>\n      <td>...</td>\n      <td>...</td>\n      <td>...</td>\n      <td>...</td>\n      <td>...</td>\n      <td>...</td>\n      <td>...</td>\n      <td>...</td>\n      <td>...</td>\n    </tr>\n    <tr>\n      <th>11011</th>\n      <td>2022-12-31</td>\n      <td>19</td>\n      <td>1.693</td>\n      <td>0.000</td>\n      <td>0.0</td>\n      <td>0</td>\n      <td>15.70</td>\n      <td>15.57</td>\n      <td>15.57</td>\n      <td>15.72</td>\n      <td>1018</td>\n      <td>86</td>\n      <td>5.56</td>\n      <td>3.58</td>\n      <td>100</td>\n      <td>moderate rain</td>\n    </tr>\n    <tr>\n      <th>11012</th>\n      <td>2022-12-31</td>\n      <td>20</td>\n      <td>1.327</td>\n      <td>0.000</td>\n      <td>0.0</td>\n      <td>0</td>\n      <td>15.55</td>\n      <td>15.43</td>\n      <td>12.72</td>\n      <td>15.70</td>\n      <td>1018</td>\n      <td>87</td>\n      <td>4.47</td>\n      <td>4.20</td>\n      <td>100</td>\n      <td>heavy intensity rain</td>\n    </tr>\n    <tr>\n      <th>11013</th>\n      <td>2022-12-31</td>\n      <td>21</td>\n      <td>0.757</td>\n      <td>0.000</td>\n      <td>0.0</td>\n      <td>0</td>\n      <td>13.45</td>\n      <td>13.28</td>\n      <td>12.23</td>\n      <td>13.99</td>\n      <td>1019</td>\n      <td>93</td>\n      <td>3.29</td>\n      <td>4.23</td>\n      <td>100</td>\n      <td>heavy intensity rain</td>\n    </tr>\n    <tr>\n      <th>11014</th>\n      <td>2022-12-31</td>\n      <td>22</td>\n      <td>0.000</td>\n      <td>0.675</td>\n      <td>0.0</td>\n      <td>0</td>\n      <td>12.93</td>\n      <td>12.73</td>\n      <td>12.23</td>\n      <td>13.43</td>\n      <td>1019</td>\n      <td>94</td>\n      <td>1.49</td>\n      <td>3.90</td>\n      <td>100</td>\n      <td>moderate rain</td>\n    </tr>\n    <tr>\n      <th>11015</th>\n      <td>2022-12-31</td>\n      <td>23</td>\n      <td>0.000</td>\n      <td>0.403</td>\n      <td>0.0</td>\n      <td>0</td>\n      <td>12.93</td>\n      <td>12.76</td>\n      <td>12.23</td>\n      <td>13.43</td>\n      <td>1019</td>\n      <td>95</td>\n      <td>1.93</td>\n      <td>4.07</td>\n      <td>100</td>\n      <td>heavy intensity rain</td>\n    </tr>\n  </tbody>\n</table>\n<p>11016 rows × 16 columns</p>\n</div>"
     },
     "execution_count": 42,
     "metadata": {},
     "output_type": "execute_result"
    }
   ],
   "source": [
    "em1['rain_1h'].fillna(0.0,inplace=True)\n",
    "em1['Injeção na rede (kWh)'].fillna(0,inplace=True)\n",
    "em1"
   ],
   "metadata": {
    "collapsed": false,
    "ExecuteTime": {
     "end_time": "2023-10-26T23:15:57.789863895Z",
     "start_time": "2023-10-26T23:15:57.755182163Z"
    }
   }
  },
  {
   "cell_type": "code",
   "execution_count": 44,
   "outputs": [
    {
     "data": {
      "text/plain": "<Axes: >"
     },
     "execution_count": 44,
     "metadata": {},
     "output_type": "execute_result"
    },
    {
     "data": {
      "text/plain": "<Figure size 640x480 with 1 Axes>",
      "image/png": "[encoded data removed]"
     },
     "metadata": {},
     "output_type": "display_data"
    }
   ],
   "source": [
    "sns.heatmap(em1.isnull(),yticklabels=False, cbar=False, cmap='viridis')"
   ],
   "metadata": {
    "collapsed": false,
    "ExecuteTime": {
     "end_time": "2023-10-26T23:16:22.803654430Z",
     "start_time": "2023-10-26T23:16:22.401107594Z"
    }
   }
  },
  {
   "cell_type": "code",
   "execution_count": null,
   "outputs": [],
   "source": [],
   "metadata": {
    "collapsed": false
   }
  }
 ],
 "metadata": {
  "kernelspec": {
   "display_name": "DAA",
   "language": "python",
   "name": "python3"
  },
  "language_info": {
   "codemirror_mode": {
    "name": "ipython",
    "version": 3
   },
   "file_extension": ".py",
   "mimetype": "text/x-python",
   "name": "python",
   "nbconvert_exporter": "python",
   "pygments_lexer": "ipython3",
   "version": "3.10.0"
  }
 },
 "nbformat": 4,
 "nbformat_minor": 2
}
